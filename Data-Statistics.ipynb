{
 "cells": [
  {
   "cell_type": "code",
   "execution_count": 1,
   "metadata": {},
   "outputs": [],
   "source": [
    "import sys\n",
    "import re\n",
    "import matplotlib.pyplot as plt\n",
    "import numpy as np"
   ]
  },
  {
   "cell_type": "markdown",
   "metadata": {},
   "source": [
    "# SQuAD Explanatory Data Analysis"
   ]
  },
  {
   "cell_type": "markdown",
   "metadata": {},
   "source": [
    "Key Observations:\n",
    "1. Less than 0.5% of the contexts have length >=400\n",
    "2. Less than 0.1% of the questions have length >=30\n",
    "3. Only about 1% of the answers have span >=20. Most answers are very very short (eg. length 1)\n",
    "4. About 10% of the answers have no alphabetical characters (eg. dates, numbers)\n",
    "5. Most questions start with 'what', 'who', 'how, 'when', 'which', 'where', 'why'"
   ]
  },
  {
   "cell_type": "code",
   "execution_count": 2,
   "metadata": {},
   "outputs": [],
   "source": [
    "train_context = 'data/train.context'\n",
    "train_question = 'data/train.question'\n",
    "train_answer = 'data/train.answer'\n",
    "train_span = 'data/train.span'\n",
    "\n",
    "dev_context = 'data/dev.context'\n",
    "dev_question = 'data/dev.question'\n",
    "dev_answer = 'data/dev.answer'\n",
    "dev_span = 'data/dev.span'"
   ]
  },
  {
   "cell_type": "code",
   "execution_count": 3,
   "metadata": {},
   "outputs": [],
   "source": [
    "def length_statistics(data):\n",
    "    MAX_LIMIT = 1000\n",
    "    counter = [0] * MAX_LIMIT # count[i] is the number of lines with length i\n",
    "    max_len = 0\n",
    "    with open(data, 'r') as F:\n",
    "        for line in F:\n",
    "            length = len(line.strip().split(' '))\n",
    "            max_len = max(length, max_len)\n",
    "            assert (length < MAX_LIMIT)\n",
    "            counter[length] += 1\n",
    "    return counter[:max_len+1], max_len\n",
    "\n",
    "def context_statistics(data):\n",
    "    context_stats, context_max = length_statistics(data)\n",
    "    num_examples = sum(context_stats)\n",
    "    print \"Number of examples: {}\".format(num_examples)\n",
    "    print \"Max Length: {}\".format(context_max)\n",
    "    print \"Mode Length: {}\".format(np.argmax(np.array(context_stats)))\n",
    "    print \">=600: {} ({}%)\".format(sum(context_stats[600:]), 100.0*sum(context_stats[600:])/num_examples)\n",
    "    print \">=500: {} ({}%)\".format(sum(context_stats[500:]), 100.0*sum(context_stats[500:])/num_examples)\n",
    "    print \">=400: {} ({}%)\".format(sum(context_stats[400:]), 100.0*sum(context_stats[400:])/num_examples)\n",
    "    print \">=300: {} ({}%)\".format(sum(context_stats[300:]), 100.0*sum(context_stats[300:])/num_examples)\n",
    "    plt.figure()\n",
    "    plt.bar(range(len(context_stats)), context_stats)\n",
    "\n",
    "def question_statistics(data):\n",
    "    quest_stats, quest_max = length_statistics(data)\n",
    "    num_examples = sum(quest_stats)\n",
    "    print \"Number of examples: {}\".format(num_examples)\n",
    "    print \"Max Length: {}\".format(quest_max)\n",
    "    print \"Mode Length: {}\".format(np.argmax(np.array(quest_stats)))\n",
    "    print \">=30: {} ({}%)\".format(sum(quest_stats[30:]), 100.0*sum(quest_stats[30:])/num_examples)\n",
    "    print \">=25: {} ({}%)\".format(sum(quest_stats[25:]), 100.0*sum(quest_stats[25:])/num_examples)\n",
    "    print \">=20: {} ({}%)\".format(sum(quest_stats[20:]), 100.0*sum(quest_stats[20:])/num_examples)\n",
    "    plt.figure()\n",
    "    plt.bar(range(len(quest_stats)), quest_stats)\n",
    "    \n",
    "def span_statistics(data):\n",
    "    MAX_LIMIT = 100\n",
    "    counter = [0] * MAX_LIMIT\n",
    "    max_span = 0\n",
    "    with open(data, 'r') as F:\n",
    "        for line in F:\n",
    "            span = map(int, line.strip().split(' '))\n",
    "            span = span[1] - span[0] + 1\n",
    "            max_span = max(span, max_span)\n",
    "            counter[span] += 1\n",
    "    counter = counter[:max_span+1]\n",
    "    num_examples = sum(counter)\n",
    "    print \"Number of examples: {}\".format(num_examples)\n",
    "    print \"Max Span: {}\".format(max_span)\n",
    "    print \"Mode Span: {}\".format(np.argmax(np.array(counter)))\n",
    "    print \">=20: {} ({}%)\".format(sum(counter[20:]), 100.0*sum(counter[20:])/num_examples)\n",
    "    print \">=15: {} ({}%)\".format(sum(counter[15:]), 100.0*sum(counter[15:])/num_examples)\n",
    "    print \">=10: {} ({}%)\".format(sum(counter[10:]), 100.0*sum(counter[10:])/num_examples)\n",
    "    plt.figure()\n",
    "    plt.bar(range(len(counter)), counter)"
   ]
  },
  {
   "cell_type": "code",
   "execution_count": 4,
   "metadata": {},
   "outputs": [
    {
     "name": "stdout",
     "output_type": "stream",
     "text": [
      "Context (Training Set)\n",
      "Number of examples: 86318\n",
      "Max Length: 766\n",
      "Mode Length: 102\n",
      ">=600: 19 (0.0220116314094%)\n",
      ">=500: 39 (0.0451817697352%)\n",
      ">=400: 182 (0.210848258764%)\n",
      ">=300: 1460 (1.69142009778%)\n",
      "\n",
      "Context (Dev Set)\n",
      "Number of examples: 10391\n",
      "Max Length: 700\n",
      "Mode Length: 98\n",
      ">=600: 9 (0.0866134154557%)\n",
      ">=500: 39 (0.375324800308%)\n",
      ">=400: 87 (0.837263016072%)\n",
      ">=300: 261 (2.51178904821%)\n"
     ]
    },
    {
     "data": {
      "image/png": "[encoded data removed]",
      "text/plain": [
       "<matplotlib.figure.Figure at 0x1041acc50>"
      ]
     },
     "metadata": {},
     "output_type": "display_data"
    },
    {
     "data": {
      "image/png": "[encoded data removed]",
      "text/plain": [
       "<matplotlib.figure.Figure at 0x1041ac390>"
      ]
     },
     "metadata": {},
     "output_type": "display_data"
    }
   ],
   "source": [
    "print \"Context (Training Set)\"\n",
    "context_statistics(train_context)\n",
    "print\n",
    "print \"Context (Dev Set)\"\n",
    "context_statistics(dev_context)"
   ]
  },
  {
   "cell_type": "code",
   "execution_count": 5,
   "metadata": {},
   "outputs": [
    {
     "name": "stdout",
     "output_type": "stream",
     "text": [
      "Question (Training Set)\n",
      "Number of examples: 86318\n",
      "Max Length: 60\n",
      "Mode Length: 10\n",
      ">=30: 86 (0.0996315948006%)\n",
      ">=25: 440 (0.509743043166%)\n",
      ">=20: 2626 (3.04223916217%)\n",
      "\n",
      "Question (Dev Set)\n",
      "Number of examples: 10391\n",
      "Max Length: 34\n",
      "Mode Length: 11\n",
      ">=30: 9 (0.0866134154557%)\n",
      ">=25: 50 (0.48118564142%)\n",
      ">=20: 334 (3.21432008469%)\n"
     ]
    },
    {
     "data": {
      "image/png": "[encoded data removed]",
      "text/plain": [
       "<matplotlib.figure.Figure at 0x10640ad50>"
      ]
     },
     "metadata": {},
     "output_type": "display_data"
    },
    {
     "data": {
      "image/png": "[encoded data removed]",
      "text/plain": [
       "<matplotlib.figure.Figure at 0x106c4ff50>"
      ]
     },
     "metadata": {},
     "output_type": "display_data"
    }
   ],
   "source": [
    "print \"Question (Training Set)\"\n",
    "question_statistics(train_question)\n",
    "print\n",
    "print \"Question (Dev Set)\"\n",
    "question_statistics(dev_question)"
   ]
  },
  {
   "cell_type": "code",
   "execution_count": 6,
   "metadata": {},
   "outputs": [
    {
     "name": "stdout",
     "output_type": "stream",
     "text": [
      "Span (Training Set)\n",
      "Number of examples: 86318\n",
      "Max Span: 46\n",
      "Mode Span: 1\n",
      ">=20: 1054 (1.22106628977%)\n",
      ">=15: 2425 (2.80937927199%)\n",
      ">=10: 5452 (6.31617970759%)\n",
      "None\n",
      "\n",
      "Span (Dev Set)\n",
      "Number of examples: 10391\n",
      "Max Span: 37\n",
      "Mode Span: 1\n",
      ">=20: 73 (0.702531036474%)\n",
      ">=15: 188 (1.80925801174%)\n",
      ">=10: 525 (5.05244923491%)\n",
      "None\n"
     ]
    },
    {
     "data": {
      "image/png": "[encoded data removed]",
      "text/plain": [
       "<matplotlib.figure.Figure at 0x1041acd50>"
      ]
     },
     "metadata": {},
     "output_type": "display_data"
    },
    {
     "data": {
      "image/png": "[encoded data removed]",
      "text/plain": [
       "<matplotlib.figure.Figure at 0x106f6a710>"
      ]
     },
     "metadata": {},
     "output_type": "display_data"
    }
   ],
   "source": [
    "print \"Span (Training Set)\"\n",
    "print span_statistics(train_span)\n",
    "print\n",
    "print \"Span (Dev Set)\"\n",
    "print span_statistics(dev_span)"
   ]
  },
  {
   "cell_type": "code",
   "execution_count": 7,
   "metadata": {},
   "outputs": [
    {
     "name": "stdout",
     "output_type": "stream",
     "text": [
      "Training Set:\n",
      "86318 Examples, 9186 of which have no alphabetical characters (10.642044533%)\n",
      "Dev Set:\n",
      "10391 Examples, 979 of which have no alphabetical characters (9.42161485901%)\n"
     ]
    }
   ],
   "source": [
    "# How many answers have no English words (i.e. only numbers and punctuations)?\n",
    "def answer_no_word(data):\n",
    "    num_examples = 0\n",
    "    num_no_word = 0\n",
    "    with open(data, 'r') as F:\n",
    "        for line in F:\n",
    "            num_examples += 1\n",
    "            num_no_word += 1\n",
    "            answer = line.strip()\n",
    "            for c in answer:\n",
    "                if c.isalpha():\n",
    "                    num_no_word -= 1\n",
    "                    break\n",
    "    percent = 100.0 * num_no_word / num_examples\n",
    "    print \"{} Examples, {} of which have no alphabetical characters ({}%)\".format(num_examples, num_no_word, percent)\n",
    "\n",
    "print \"Training Set:\"\n",
    "answer_no_word(train_answer)\n",
    "print \"Dev Set:\"\n",
    "answer_no_word(dev_answer)"
   ]
  },
  {
   "cell_type": "code",
   "execution_count": 17,
   "metadata": {},
   "outputs": [
    {
     "name": "stdout",
     "output_type": "stream",
     "text": [
      "Training Set Top Question Types---\n",
      "Total: 86318\n",
      "what: 37334 (43.2516972126%)\n",
      "who: 8135 (9.42445376399%)\n",
      "how: 7903 (9.15568015941%)\n",
      "when: 5355 (6.20380453671%)\n",
      "in: 4283 (4.96188512245%)\n",
      "which: 4125 (4.77884102968%)\n",
      "where: 3254 (3.7697815056%)\n",
      "the: 2283 (2.64487128988%)\n",
      "why: 1183 (1.37051368197%)\n",
      "on: 587 (0.68004355986%)\n",
      "\n",
      "Dev Set Top Question Types---\n",
      "Total: 10391\n",
      "what: 4704 (45.2699451448%)\n",
      "who: 1057 (10.1722644596%)\n",
      "how: 1045 (10.0567799057%)\n",
      "when: 676 (6.505629872%)\n",
      "which: 451 (4.34029448561%)\n",
      "in: 436 (4.19593879319%)\n",
      "where: 431 (4.14782022904%)\n",
      "the: 233 (2.24232508902%)\n",
      "why: 150 (1.44355692426%)\n",
      "to: 42 (0.404195938793%)\n",
      "on: 42 (0.404195938793%)\n"
     ]
    }
   ],
   "source": [
    "# Starting word of the questions\n",
    "def question_start(data):\n",
    "    # counter = {'who': 0, 'what': 0, 'when': 0, 'where': 0, 'which': 0, 'why': 'how': 0}\n",
    "    counter = {}\n",
    "    num_examples = 0\n",
    "    with open(data, 'r') as F:\n",
    "        for line in F:\n",
    "            num_examples += 1\n",
    "            word = line.strip().split(' ')[0]\n",
    "            counter[word] = counter.get(word, 0) + 1\n",
    "    top_values = sorted(counter.values(), reverse=True)[:10]\n",
    "    top_list = [(key, val) for key, val in counter.iteritems() if val in top_values]\n",
    "    top_list.sort(key=lambda x: x[1], reverse=True)\n",
    "    print \"Total: {}\".format(num_examples)\n",
    "    for key, val in top_list:\n",
    "        print \"{}: {} ({}%)\".format(key, val, 100.0 * val / num_examples)\n",
    "\n",
    "print \"Training Set Top Question Types---\"\n",
    "question_start(train_question)\n",
    "print\n",
    "print \"Dev Set Top Question Types---\"\n",
    "question_start(dev_question)"
   ]
  },
  {
   "cell_type": "code",
   "execution_count": null,
   "metadata": {},
   "outputs": [],
   "source": []
  }
 ],
 "metadata": {
  "kernelspec": {
   "display_name": "Python 2",
   "language": "python",
   "name": "python2"
  },
  "language_info": {
   "codemirror_mode": {
    "name": "ipython",
    "version": 2
   },
   "file_extension": ".py",
   "mimetype": "text/x-python",
   "name": "python",
   "nbconvert_exporter": "python",
   "pygments_lexer": "ipython2",
   "version": "2.7.14"
  }
 },
 "nbformat": 4,
 "nbformat_minor": 2
}
